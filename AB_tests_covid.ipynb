{
 "cells": [
  {
   "cell_type": "markdown",
   "metadata": {},
   "source": [
    " Accuracy is the proportion of correct answers in the test.\\\n",
    " Accuracy does not account for the cost of errors.\\\n",
    " False positive and false negative results equally reduce accuracy.\\\n",
    " Accuracy is not applicable in cases of an imbalance between positive and negative results.\\\n",
    " False positive and false negative cases should be analyzed separately.\n",
    "\n",
    " False Positive (FP) - incorrect identification of a disease in a healthy person (Type I error in statistics). %FP (FPRate) = FP / Negative_real.\\\n",
    " False Negative (FN) - incorrect identification of a sick person as healthy (Type II error in statistics). %FN (FNRate) = FN / Positive_real.\\\n",
    " True Positive (TP) TPRate = TP / Positive_real. Sensitivity metric. Accuracy for positive results. 1 - FNRate.\\\n",
    " True Negative (TN) TNRate = TN / Negative_real. Specificity metric. Accuracy for negative results. 1 - FPRate.\n",
    "\n",
    " https://en.wikipedia.org/wiki/Receiver_operating_characteristic more about identifications\\\n",
    " https://en.wikipedia.org/wiki/Confusion_matrix - about confusion matrix"
   ]
  },
  {
   "cell_type": "code",
   "execution_count": 3,
   "metadata": {},
   "outputs": [],
   "source": [
    "import numpy as np\n",
    "import pandas as pd\n",
    "from sklearn.metrics import accuracy_score\n",
    "from sklearn.metrics import recall_score\n",
    "from sklearn.metrics import confusion_matrix, ConfusionMatrixDisplay"
   ]
  },
  {
   "cell_type": "markdown",
   "metadata": {},
   "source": [
    "# Data upload"
   ]
  },
  {
   "cell_type": "code",
   "execution_count": 4,
   "metadata": {},
   "outputs": [],
   "source": [
    "def generate_ab_test_data(num_samples=10000):\n",
    "    np.random.seed(42)\n",
    "    data = {\n",
    "        'y_true': np.random.randint(0, 2, num_samples),\n",
    "        'y_pred_1': np.random.randint(0, 2, num_samples),\n",
    "        'y_pred_2': np.random.randint(0, 2, num_samples)\n",
    "    }\n",
    "    df = pd.DataFrame(data)\n",
    "    return df"
   ]
  },
  {
   "cell_type": "code",
   "execution_count": 5,
   "metadata": {},
   "outputs": [
    {
     "name": "stdout",
     "output_type": "stream",
     "text": [
      "   y_true  y_pred_1  y_pred_2\n",
      "0       0         0         0\n",
      "1       1         1         1\n",
      "2       0         0         1\n",
      "3       0         1         1\n",
      "4       0         1         0\n"
     ]
    }
   ],
   "source": [
    "ab_test_data = generate_ab_test_data(10000)\n",
    "print(ab_test_data.head())"
   ]
  },
  {
   "cell_type": "markdown",
   "metadata": {},
   "source": [
    "# Errors rate"
   ]
  },
  {
   "cell_type": "code",
   "execution_count": 6,
   "metadata": {},
   "outputs": [
    {
     "name": "stdout",
     "output_type": "stream",
     "text": [
      "Count of errors first test : 5030\n"
     ]
    }
   ],
   "source": [
    "print('Count of errors first test :',len(ab_test_data[ab_test_data['y_true'] != ab_test_data['y_pred_1']]))"
   ]
  },
  {
   "cell_type": "code",
   "execution_count": 7,
   "metadata": {},
   "outputs": [
    {
     "name": "stdout",
     "output_type": "stream",
     "text": [
      "Total number of observations : 10000\n"
     ]
    }
   ],
   "source": [
    "print('Total number of observations :', len(ab_test_data))"
   ]
  },
  {
   "cell_type": "code",
   "execution_count": 8,
   "metadata": {},
   "outputs": [
    {
     "name": "stdout",
     "output_type": "stream",
     "text": [
      "Errors rate first test : 0.503\n"
     ]
    }
   ],
   "source": [
    "print('Errors rate first test :',len(ab_test_data[ab_test_data['y_true'] != ab_test_data['y_pred_1']])/len(ab_test_data))"
   ]
  },
  {
   "cell_type": "code",
   "execution_count": 9,
   "metadata": {},
   "outputs": [
    {
     "name": "stdout",
     "output_type": "stream",
     "text": [
      "Errors rate first test : 0.503\n"
     ]
    }
   ],
   "source": [
    "print('Errors rate first test :', (ab_test_data['y_true'] != ab_test_data['y_pred_1']).mean())"
   ]
  },
  {
   "cell_type": "code",
   "execution_count": 10,
   "metadata": {},
   "outputs": [
    {
     "name": "stdout",
     "output_type": "stream",
     "text": [
      "Errors rate second test : 0.494\n"
     ]
    }
   ],
   "source": [
    "print('Errors rate second test :',(ab_test_data['y_true'] != ab_test_data['y_pred_2']).mean())"
   ]
  },
  {
   "cell_type": "markdown",
   "metadata": {},
   "source": [
    "# Accuracy"
   ]
  },
  {
   "cell_type": "code",
   "execution_count": 11,
   "metadata": {},
   "outputs": [
    {
     "name": "stdout",
     "output_type": "stream",
     "text": [
      "Accuracy score first test: 0.497\n"
     ]
    }
   ],
   "source": [
    "print('Accuracy score first test:',accuracy_score(ab_test_data['y_true'], ab_test_data['y_pred_1']))"
   ]
  },
  {
   "cell_type": "code",
   "execution_count": 12,
   "metadata": {},
   "outputs": [
    {
     "name": "stdout",
     "output_type": "stream",
     "text": [
      "Accuracy score second test: 0.506\n"
     ]
    }
   ],
   "source": [
    "print('Accuracy score second test:',accuracy_score(ab_test_data['y_true'], ab_test_data['y_pred_2']))"
   ]
  },
  {
   "cell_type": "markdown",
   "metadata": {},
   "source": [
    "# Positive and negative"
   ]
  },
  {
   "cell_type": "code",
   "execution_count": 13,
   "metadata": {},
   "outputs": [],
   "source": [
    "positives = ab_test_data[ab_test_data['y_true'] == 1].copy()"
   ]
  },
  {
   "cell_type": "code",
   "execution_count": 14,
   "metadata": {},
   "outputs": [],
   "source": [
    "negatives = ab_test_data[ab_test_data['y_true'] == 0].copy()"
   ]
  },
  {
   "cell_type": "markdown",
   "metadata": {},
   "source": [
    "## False negative rate"
   ]
  },
  {
   "cell_type": "code",
   "execution_count": 15,
   "metadata": {},
   "outputs": [
    {
     "name": "stdout",
     "output_type": "stream",
     "text": [
      "False negative rate first test : 0.5037096450772007\n"
     ]
    }
   ],
   "source": [
    "print('False negative rate first test :',(positives['y_true'] != positives['y_pred_1']).mean())"
   ]
  },
  {
   "cell_type": "code",
   "execution_count": 16,
   "metadata": {},
   "outputs": [
    {
     "name": "stdout",
     "output_type": "stream",
     "text": [
      "False negative rate second test : 0.49027471425706837\n"
     ]
    }
   ],
   "source": [
    "print('False negative rate second test :',(positives['y_true'] != positives['y_pred_2']).mean())"
   ]
  },
  {
   "cell_type": "markdown",
   "metadata": {},
   "source": [
    "## False positive rate"
   ]
  },
  {
   "cell_type": "code",
   "execution_count": 17,
   "metadata": {},
   "outputs": [
    {
     "name": "stdout",
     "output_type": "stream",
     "text": [
      "False positive rate first test : 0.50229403550768\n"
     ]
    }
   ],
   "source": [
    "print('False positive rate first test :',(negatives['y_true'] != negatives['y_pred_1']).mean())"
   ]
  },
  {
   "cell_type": "code",
   "execution_count": 18,
   "metadata": {},
   "outputs": [
    {
     "name": "stdout",
     "output_type": "stream",
     "text": [
      "False positive rate second test : 0.49770596449231996\n"
     ]
    }
   ],
   "source": [
    "print('False positive rate second test :',(negatives['y_true'] != negatives['y_pred_2']).mean())"
   ]
  },
  {
   "cell_type": "markdown",
   "metadata": {},
   "source": [
    "# Sensitivity"
   ]
  },
  {
   "cell_type": "code",
   "execution_count": 19,
   "metadata": {},
   "outputs": [
    {
     "data": {
      "text/plain": [
       "0.49629035492279927"
      ]
     },
     "execution_count": 19,
     "metadata": {},
     "output_type": "execute_result"
    }
   ],
   "source": [
    "accuracy_score(positives['y_true'],positives['y_pred_1'])"
   ]
  },
  {
   "cell_type": "code",
   "execution_count": 20,
   "metadata": {},
   "outputs": [
    {
     "data": {
      "text/plain": [
       "0.5097252857429316"
      ]
     },
     "execution_count": 20,
     "metadata": {},
     "output_type": "execute_result"
    }
   ],
   "source": [
    "accuracy_score(positives['y_true'],positives['y_pred_2'])"
   ]
  },
  {
   "cell_type": "markdown",
   "metadata": {},
   "source": [
    "# Specificity"
   ]
  },
  {
   "cell_type": "code",
   "execution_count": 21,
   "metadata": {},
   "outputs": [
    {
     "data": {
      "text/plain": [
       "0.49770596449231996"
      ]
     },
     "execution_count": 21,
     "metadata": {},
     "output_type": "execute_result"
    }
   ],
   "source": [
    "accuracy_score(negatives['y_true'],negatives['y_pred_1'])"
   ]
  },
  {
   "cell_type": "code",
   "execution_count": 22,
   "metadata": {},
   "outputs": [
    {
     "data": {
      "text/plain": [
       "0.50229403550768"
      ]
     },
     "execution_count": 22,
     "metadata": {},
     "output_type": "execute_result"
    }
   ],
   "source": [
    "accuracy_score(negatives['y_true'],negatives['y_pred_2'])"
   ]
  },
  {
   "cell_type": "markdown",
   "metadata": {},
   "source": [
    "# Sensitivity and specificity as functions"
   ]
  },
  {
   "cell_type": "code",
   "execution_count": 23,
   "metadata": {},
   "outputs": [
    {
     "data": {
      "text/plain": [
       "0.49629035492279927"
      ]
     },
     "execution_count": 23,
     "metadata": {},
     "output_type": "execute_result"
    }
   ],
   "source": [
    "recall_score(ab_test_data['y_true'],ab_test_data['y_pred_1'])"
   ]
  },
  {
   "cell_type": "code",
   "execution_count": 24,
   "metadata": {},
   "outputs": [
    {
     "data": {
      "text/plain": [
       "0.5097252857429316"
      ]
     },
     "execution_count": 24,
     "metadata": {},
     "output_type": "execute_result"
    }
   ],
   "source": [
    "recall_score(ab_test_data['y_true'],ab_test_data['y_pred_2'])"
   ]
  },
  {
   "cell_type": "code",
   "execution_count": 25,
   "metadata": {},
   "outputs": [
    {
     "data": {
      "text/plain": [
       "0.49770596449231996"
      ]
     },
     "execution_count": 25,
     "metadata": {},
     "output_type": "execute_result"
    }
   ],
   "source": [
    "recall_score(ab_test_data['y_true'],ab_test_data['y_pred_1'], pos_label=0)"
   ]
  },
  {
   "cell_type": "code",
   "execution_count": 26,
   "metadata": {},
   "outputs": [
    {
     "data": {
      "text/plain": [
       "0.50229403550768"
      ]
     },
     "execution_count": 26,
     "metadata": {},
     "output_type": "execute_result"
    }
   ],
   "source": [
    "recall_score(ab_test_data['y_true'],ab_test_data['y_pred_2'], pos_label=0)"
   ]
  },
  {
   "cell_type": "markdown",
   "metadata": {},
   "source": [
    "# Confusion matrix"
   ]
  },
  {
   "cell_type": "code",
   "execution_count": 31,
   "metadata": {},
   "outputs": [
    {
     "data": {
      "image/png": "[encoded data removed]",
      "text/plain": [
       "<Figure size 640x480 with 2 Axes>"
      ]
     },
     "metadata": {},
     "output_type": "display_data"
    }
   ],
   "source": [
    "cm = confusion_matrix(ab_test_data['y_true'], ab_test_data['y_pred_1'])\n",
    "disp = ConfusionMatrixDisplay(confusion_matrix=cm)\n",
    "disp.plot();"
   ]
  },
  {
   "cell_type": "code",
   "execution_count": 32,
   "metadata": {},
   "outputs": [
    {
     "data": {
      "image/png": "[encoded data removed]",
      "text/plain": [
       "<Figure size 640x480 with 2 Axes>"
      ]
     },
     "metadata": {},
     "output_type": "display_data"
    }
   ],
   "source": [
    "cm = confusion_matrix(ab_test_data['y_true'], ab_test_data['y_pred_2'])\n",
    "disp = ConfusionMatrixDisplay(confusion_matrix=cm)\n",
    "disp.plot();"
   ]
  },
  {
   "cell_type": "code",
   "execution_count": null,
   "metadata": {},
   "outputs": [
    {
     "data": {
      "text/plain": [
       "array([[2495, 2518],\n",
       "       [2512, 2475]])"
      ]
     },
     "execution_count": 33,
     "metadata": {},
     "output_type": "execute_result"
    }
   ],
   "source": [
    "confusion_matrix(ab_test_data['y_true'], ab_test_data['y_pred_1'])"
   ]
  },
  {
   "cell_type": "code",
   "execution_count": 34,
   "metadata": {},
   "outputs": [],
   "source": [
    "tn, fp, fn, tp = confusion_matrix(ab_test_data['y_true'], ab_test_data['y_pred_1']).ravel()"
   ]
  },
  {
   "cell_type": "code",
   "execution_count": 35,
   "metadata": {},
   "outputs": [
    {
     "data": {
      "text/plain": [
       "(np.int64(2495), np.int64(2518), np.int64(2512), np.int64(2475))"
      ]
     },
     "execution_count": 35,
     "metadata": {},
     "output_type": "execute_result"
    }
   ],
   "source": [
    "tn, fp, fn, tp "
   ]
  },
  {
   "cell_type": "code",
   "execution_count": null,
   "metadata": {},
   "outputs": [],
   "source": []
  }
 ],
 "metadata": {
  "kernelspec": {
   "display_name": "venv",
   "language": "python",
   "name": "python3"
  },
  "language_info": {
   "codemirror_mode": {
    "name": "ipython",
    "version": 3
   },
   "file_extension": ".py",
   "mimetype": "text/x-python",
   "name": "python",
   "nbconvert_exporter": "python",
   "pygments_lexer": "ipython3",
   "version": "3.11.5"
  }
 },
 "nbformat": 4,
 "nbformat_minor": 2
}

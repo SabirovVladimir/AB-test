{
 "cells": [
  {
   "cell_type": "markdown",
   "metadata": {},
   "source": [
    " Accuracy is the proportion of correct answers in the test.\\\n",
    " Accuracy does not account for the cost of errors.\\\n",
    " False positive and false negative results equally reduce accuracy.\\\n",
    " Accuracy is not applicable in cases of an imbalance between positive and negative results.\\\n",
    " False positive and false negative cases should be analyzed separately.\n",
    "\n",
    " False Positive (FP) - incorrect identification of a disease in a healthy person (Type I error in statistics). %FP (FPRate) = FP / Negative_real.\\\n",
    " False Negative (FN) - incorrect identification of a sick person as healthy (Type II error in statistics). %FN (FNRate) = FN / Positive_real.\\\n",
    " True Positive (TP) TPRate = TP / Positive_real. Sensitivity metric. Accuracy for positive results. 1 - FNRate.\\\n",
    " True Negative (TN) TNRate = TN / Negative_real. Specificity metric. Accuracy for negative results. 1 - FPRate.\n",
    "\n",
    " https://en.wikipedia.org/wiki/Receiver_operating_characteristic more about identifications\\\n",
    " https://en.wikipedia.org/wiki/Confusion_matrix - about confusion matrix"
   ]
  },
  {
   "cell_type": "code",
   "execution_count": 1,
   "metadata": {},
   "outputs": [],
   "source": [
    "import numpy as np\n",
    "import pandas as pd"
   ]
  },
  {
   "cell_type": "code",
   "execution_count": 2,
   "metadata": {},
   "outputs": [],
   "source": [
    "def generate_ab_test_data(num_samples=10000):\n",
    "    np.random.seed(42)\n",
    "    data = {\n",
    "        'y_true': np.random.randint(0, 2, num_samples),\n",
    "        'y_pred_1': np.random.randint(0, 2, num_samples),\n",
    "        'y_pred_2': np.random.randint(0, 2, num_samples)\n",
    "    }\n",
    "    df = pd.DataFrame(data)\n",
    "    return df"
   ]
  },
  {
   "cell_type": "code",
   "execution_count": 3,
   "metadata": {},
   "outputs": [
    {
     "name": "stdout",
     "output_type": "stream",
     "text": [
      "   y_true  y_pred_1  y_pred_2\n",
      "0       0         0         0\n",
      "1       1         1         1\n",
      "2       0         0         1\n",
      "3       0         1         1\n",
      "4       0         1         0\n"
     ]
    }
   ],
   "source": [
    "ab_test_data = generate_ab_test_data(10000)\n",
    "print(ab_test_data.head())"
   ]
  },
  {
   "cell_type": "code",
   "execution_count": 4,
   "metadata": {},
   "outputs": [
    {
     "data": {
      "text/plain": [
       "5030"
      ]
     },
     "execution_count": 4,
     "metadata": {},
     "output_type": "execute_result"
    }
   ],
   "source": [
    "len(ab_test_data[ab_test_data['y_true'] != ab_test_data['y_pred_1']])"
   ]
  },
  {
   "cell_type": "code",
   "execution_count": 5,
   "metadata": {},
   "outputs": [
    {
     "data": {
      "text/plain": [
       "10000"
      ]
     },
     "execution_count": 5,
     "metadata": {},
     "output_type": "execute_result"
    }
   ],
   "source": [
    "len(ab_test_data)"
   ]
  },
  {
   "cell_type": "code",
   "execution_count": 6,
   "metadata": {},
   "outputs": [
    {
     "data": {
      "text/plain": [
       "0.503"
      ]
     },
     "execution_count": 6,
     "metadata": {},
     "output_type": "execute_result"
    }
   ],
   "source": [
    "len(ab_test_data[ab_test_data['y_true'] != ab_test_data['y_pred_1']])/len(ab_test_data)"
   ]
  },
  {
   "cell_type": "code",
   "execution_count": 7,
   "metadata": {},
   "outputs": [
    {
     "data": {
      "text/plain": [
       "np.float64(0.503)"
      ]
     },
     "execution_count": 7,
     "metadata": {},
     "output_type": "execute_result"
    }
   ],
   "source": [
    "(ab_test_data['y_true'] != ab_test_data['y_pred_1']).mean()"
   ]
  },
  {
   "cell_type": "code",
   "execution_count": 8,
   "metadata": {},
   "outputs": [
    {
     "data": {
      "text/plain": [
       "np.float64(0.494)"
      ]
     },
     "execution_count": 8,
     "metadata": {},
     "output_type": "execute_result"
    }
   ],
   "source": [
    "(ab_test_data['y_true'] != ab_test_data['y_pred_2']).mean()"
   ]
  },
  {
   "cell_type": "code",
   "execution_count": null,
   "metadata": {},
   "outputs": [],
   "source": []
  }
 ],
 "metadata": {
  "kernelspec": {
   "display_name": "venv",
   "language": "python",
   "name": "python3"
  },
  "language_info": {
   "codemirror_mode": {
    "name": "ipython",
    "version": 3
   },
   "file_extension": ".py",
   "mimetype": "text/x-python",
   "name": "python",
   "nbconvert_exporter": "python",
   "pygments_lexer": "ipython3",
   "version": "3.11.5"
  }
 },
 "nbformat": 4,
 "nbformat_minor": 2
}
